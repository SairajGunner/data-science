{
 "cells": [
  {
   "cell_type": "code",
   "execution_count": 1,
   "metadata": {},
   "outputs": [],
   "source": [
    "import numpy as np\n",
    "import pandas as pd\n",
    "from matplotlib import pyplot"
   ]
  },
  {
   "cell_type": "code",
   "execution_count": 3,
   "metadata": {},
   "outputs": [],
   "source": [
    "df = pd.read_csv(\"../data/original/wfp_food_prices_database.csv\", low_memory=False)"
   ]
  },
  {
   "cell_type": "code",
   "execution_count": 4,
   "metadata": {},
   "outputs": [
    {
     "data": {
      "text/html": [
       "<div>\n",
       "<style scoped>\n",
       "    .dataframe tbody tr th:only-of-type {\n",
       "        vertical-align: middle;\n",
       "    }\n",
       "\n",
       "    .dataframe tbody tr th {\n",
       "        vertical-align: top;\n",
       "    }\n",
       "\n",
       "    .dataframe thead th {\n",
       "        text-align: right;\n",
       "    }\n",
       "</style>\n",
       "<table border=\"1\" class=\"dataframe\">\n",
       "  <thead>\n",
       "    <tr style=\"text-align: right;\">\n",
       "      <th></th>\n",
       "      <th>adm0_id</th>\n",
       "      <th>adm0_name</th>\n",
       "      <th>adm1_id</th>\n",
       "      <th>adm1_name</th>\n",
       "      <th>mkt_id</th>\n",
       "      <th>mkt_name</th>\n",
       "      <th>cm_id</th>\n",
       "      <th>cm_name</th>\n",
       "      <th>cur_id</th>\n",
       "      <th>cur_name</th>\n",
       "      <th>pt_id</th>\n",
       "      <th>pt_name</th>\n",
       "      <th>um_id</th>\n",
       "      <th>um_name</th>\n",
       "      <th>mp_month</th>\n",
       "      <th>mp_year</th>\n",
       "      <th>mp_price</th>\n",
       "      <th>mp_commoditysource</th>\n",
       "    </tr>\n",
       "  </thead>\n",
       "  <tbody>\n",
       "    <tr>\n",
       "      <th>0</th>\n",
       "      <td>1.0</td>\n",
       "      <td>Afghanistan</td>\n",
       "      <td>272</td>\n",
       "      <td>Badakhshan</td>\n",
       "      <td>266</td>\n",
       "      <td>Fayzabad</td>\n",
       "      <td>55</td>\n",
       "      <td>Bread - Retail</td>\n",
       "      <td>0.0</td>\n",
       "      <td>AFN</td>\n",
       "      <td>15</td>\n",
       "      <td>Retail</td>\n",
       "      <td>5</td>\n",
       "      <td>KG</td>\n",
       "      <td>1</td>\n",
       "      <td>2014</td>\n",
       "      <td>50.0</td>\n",
       "      <td>NaN</td>\n",
       "    </tr>\n",
       "    <tr>\n",
       "      <th>1</th>\n",
       "      <td>1.0</td>\n",
       "      <td>Afghanistan</td>\n",
       "      <td>272</td>\n",
       "      <td>Badakhshan</td>\n",
       "      <td>266</td>\n",
       "      <td>Fayzabad</td>\n",
       "      <td>55</td>\n",
       "      <td>Bread - Retail</td>\n",
       "      <td>0.0</td>\n",
       "      <td>AFN</td>\n",
       "      <td>15</td>\n",
       "      <td>Retail</td>\n",
       "      <td>5</td>\n",
       "      <td>KG</td>\n",
       "      <td>2</td>\n",
       "      <td>2014</td>\n",
       "      <td>50.0</td>\n",
       "      <td>NaN</td>\n",
       "    </tr>\n",
       "    <tr>\n",
       "      <th>2</th>\n",
       "      <td>1.0</td>\n",
       "      <td>Afghanistan</td>\n",
       "      <td>272</td>\n",
       "      <td>Badakhshan</td>\n",
       "      <td>266</td>\n",
       "      <td>Fayzabad</td>\n",
       "      <td>55</td>\n",
       "      <td>Bread - Retail</td>\n",
       "      <td>0.0</td>\n",
       "      <td>AFN</td>\n",
       "      <td>15</td>\n",
       "      <td>Retail</td>\n",
       "      <td>5</td>\n",
       "      <td>KG</td>\n",
       "      <td>3</td>\n",
       "      <td>2014</td>\n",
       "      <td>50.0</td>\n",
       "      <td>NaN</td>\n",
       "    </tr>\n",
       "    <tr>\n",
       "      <th>3</th>\n",
       "      <td>1.0</td>\n",
       "      <td>Afghanistan</td>\n",
       "      <td>272</td>\n",
       "      <td>Badakhshan</td>\n",
       "      <td>266</td>\n",
       "      <td>Fayzabad</td>\n",
       "      <td>55</td>\n",
       "      <td>Bread - Retail</td>\n",
       "      <td>0.0</td>\n",
       "      <td>AFN</td>\n",
       "      <td>15</td>\n",
       "      <td>Retail</td>\n",
       "      <td>5</td>\n",
       "      <td>KG</td>\n",
       "      <td>4</td>\n",
       "      <td>2014</td>\n",
       "      <td>50.0</td>\n",
       "      <td>NaN</td>\n",
       "    </tr>\n",
       "    <tr>\n",
       "      <th>4</th>\n",
       "      <td>1.0</td>\n",
       "      <td>Afghanistan</td>\n",
       "      <td>272</td>\n",
       "      <td>Badakhshan</td>\n",
       "      <td>266</td>\n",
       "      <td>Fayzabad</td>\n",
       "      <td>55</td>\n",
       "      <td>Bread - Retail</td>\n",
       "      <td>0.0</td>\n",
       "      <td>AFN</td>\n",
       "      <td>15</td>\n",
       "      <td>Retail</td>\n",
       "      <td>5</td>\n",
       "      <td>KG</td>\n",
       "      <td>5</td>\n",
       "      <td>2014</td>\n",
       "      <td>50.0</td>\n",
       "      <td>NaN</td>\n",
       "    </tr>\n",
       "    <tr>\n",
       "      <th>5</th>\n",
       "      <td>1.0</td>\n",
       "      <td>Afghanistan</td>\n",
       "      <td>272</td>\n",
       "      <td>Badakhshan</td>\n",
       "      <td>266</td>\n",
       "      <td>Fayzabad</td>\n",
       "      <td>55</td>\n",
       "      <td>Bread - Retail</td>\n",
       "      <td>0.0</td>\n",
       "      <td>AFN</td>\n",
       "      <td>15</td>\n",
       "      <td>Retail</td>\n",
       "      <td>5</td>\n",
       "      <td>KG</td>\n",
       "      <td>6</td>\n",
       "      <td>2014</td>\n",
       "      <td>50.0</td>\n",
       "      <td>NaN</td>\n",
       "    </tr>\n",
       "    <tr>\n",
       "      <th>6</th>\n",
       "      <td>1.0</td>\n",
       "      <td>Afghanistan</td>\n",
       "      <td>272</td>\n",
       "      <td>Badakhshan</td>\n",
       "      <td>266</td>\n",
       "      <td>Fayzabad</td>\n",
       "      <td>55</td>\n",
       "      <td>Bread - Retail</td>\n",
       "      <td>0.0</td>\n",
       "      <td>AFN</td>\n",
       "      <td>15</td>\n",
       "      <td>Retail</td>\n",
       "      <td>5</td>\n",
       "      <td>KG</td>\n",
       "      <td>7</td>\n",
       "      <td>2014</td>\n",
       "      <td>50.0</td>\n",
       "      <td>NaN</td>\n",
       "    </tr>\n",
       "    <tr>\n",
       "      <th>7</th>\n",
       "      <td>1.0</td>\n",
       "      <td>Afghanistan</td>\n",
       "      <td>272</td>\n",
       "      <td>Badakhshan</td>\n",
       "      <td>266</td>\n",
       "      <td>Fayzabad</td>\n",
       "      <td>55</td>\n",
       "      <td>Bread - Retail</td>\n",
       "      <td>0.0</td>\n",
       "      <td>AFN</td>\n",
       "      <td>15</td>\n",
       "      <td>Retail</td>\n",
       "      <td>5</td>\n",
       "      <td>KG</td>\n",
       "      <td>8</td>\n",
       "      <td>2014</td>\n",
       "      <td>50.0</td>\n",
       "      <td>NaN</td>\n",
       "    </tr>\n",
       "    <tr>\n",
       "      <th>8</th>\n",
       "      <td>1.0</td>\n",
       "      <td>Afghanistan</td>\n",
       "      <td>272</td>\n",
       "      <td>Badakhshan</td>\n",
       "      <td>266</td>\n",
       "      <td>Fayzabad</td>\n",
       "      <td>55</td>\n",
       "      <td>Bread - Retail</td>\n",
       "      <td>0.0</td>\n",
       "      <td>AFN</td>\n",
       "      <td>15</td>\n",
       "      <td>Retail</td>\n",
       "      <td>5</td>\n",
       "      <td>KG</td>\n",
       "      <td>9</td>\n",
       "      <td>2014</td>\n",
       "      <td>50.0</td>\n",
       "      <td>NaN</td>\n",
       "    </tr>\n",
       "    <tr>\n",
       "      <th>9</th>\n",
       "      <td>1.0</td>\n",
       "      <td>Afghanistan</td>\n",
       "      <td>272</td>\n",
       "      <td>Badakhshan</td>\n",
       "      <td>266</td>\n",
       "      <td>Fayzabad</td>\n",
       "      <td>55</td>\n",
       "      <td>Bread - Retail</td>\n",
       "      <td>0.0</td>\n",
       "      <td>AFN</td>\n",
       "      <td>15</td>\n",
       "      <td>Retail</td>\n",
       "      <td>5</td>\n",
       "      <td>KG</td>\n",
       "      <td>10</td>\n",
       "      <td>2014</td>\n",
       "      <td>50.0</td>\n",
       "      <td>NaN</td>\n",
       "    </tr>\n",
       "  </tbody>\n",
       "</table>\n",
       "</div>"
      ],
      "text/plain": [
       "   adm0_id    adm0_name  adm1_id   adm1_name  mkt_id  mkt_name  cm_id  \\\n",
       "0      1.0  Afghanistan      272  Badakhshan     266  Fayzabad     55   \n",
       "1      1.0  Afghanistan      272  Badakhshan     266  Fayzabad     55   \n",
       "2      1.0  Afghanistan      272  Badakhshan     266  Fayzabad     55   \n",
       "3      1.0  Afghanistan      272  Badakhshan     266  Fayzabad     55   \n",
       "4      1.0  Afghanistan      272  Badakhshan     266  Fayzabad     55   \n",
       "5      1.0  Afghanistan      272  Badakhshan     266  Fayzabad     55   \n",
       "6      1.0  Afghanistan      272  Badakhshan     266  Fayzabad     55   \n",
       "7      1.0  Afghanistan      272  Badakhshan     266  Fayzabad     55   \n",
       "8      1.0  Afghanistan      272  Badakhshan     266  Fayzabad     55   \n",
       "9      1.0  Afghanistan      272  Badakhshan     266  Fayzabad     55   \n",
       "\n",
       "          cm_name  cur_id cur_name  pt_id pt_name  um_id um_name  mp_month  \\\n",
       "0  Bread - Retail     0.0      AFN     15  Retail      5      KG         1   \n",
       "1  Bread - Retail     0.0      AFN     15  Retail      5      KG         2   \n",
       "2  Bread - Retail     0.0      AFN     15  Retail      5      KG         3   \n",
       "3  Bread - Retail     0.0      AFN     15  Retail      5      KG         4   \n",
       "4  Bread - Retail     0.0      AFN     15  Retail      5      KG         5   \n",
       "5  Bread - Retail     0.0      AFN     15  Retail      5      KG         6   \n",
       "6  Bread - Retail     0.0      AFN     15  Retail      5      KG         7   \n",
       "7  Bread - Retail     0.0      AFN     15  Retail      5      KG         8   \n",
       "8  Bread - Retail     0.0      AFN     15  Retail      5      KG         9   \n",
       "9  Bread - Retail     0.0      AFN     15  Retail      5      KG        10   \n",
       "\n",
       "   mp_year  mp_price  mp_commoditysource  \n",
       "0     2014      50.0                 NaN  \n",
       "1     2014      50.0                 NaN  \n",
       "2     2014      50.0                 NaN  \n",
       "3     2014      50.0                 NaN  \n",
       "4     2014      50.0                 NaN  \n",
       "5     2014      50.0                 NaN  \n",
       "6     2014      50.0                 NaN  \n",
       "7     2014      50.0                 NaN  \n",
       "8     2014      50.0                 NaN  \n",
       "9     2014      50.0                 NaN  "
      ]
     },
     "execution_count": 4,
     "metadata": {},
     "output_type": "execute_result"
    }
   ],
   "source": [
    "df.head(10)"
   ]
  },
  {
   "cell_type": "code",
   "execution_count": 6,
   "metadata": {},
   "outputs": [],
   "source": [
    "df.drop(axis=1, columns=[\"mp_commoditysource\"], inplace=True)"
   ]
  },
  {
   "cell_type": "code",
   "execution_count": 7,
   "metadata": {},
   "outputs": [
    {
     "data": {
      "text/html": [
       "<div>\n",
       "<style scoped>\n",
       "    .dataframe tbody tr th:only-of-type {\n",
       "        vertical-align: middle;\n",
       "    }\n",
       "\n",
       "    .dataframe tbody tr th {\n",
       "        vertical-align: top;\n",
       "    }\n",
       "\n",
       "    .dataframe thead th {\n",
       "        text-align: right;\n",
       "    }\n",
       "</style>\n",
       "<table border=\"1\" class=\"dataframe\">\n",
       "  <thead>\n",
       "    <tr style=\"text-align: right;\">\n",
       "      <th></th>\n",
       "      <th>adm0_id</th>\n",
       "      <th>adm0_name</th>\n",
       "      <th>adm1_id</th>\n",
       "      <th>adm1_name</th>\n",
       "      <th>mkt_id</th>\n",
       "      <th>mkt_name</th>\n",
       "      <th>cm_id</th>\n",
       "      <th>cm_name</th>\n",
       "      <th>cur_id</th>\n",
       "      <th>cur_name</th>\n",
       "      <th>pt_id</th>\n",
       "      <th>pt_name</th>\n",
       "      <th>um_id</th>\n",
       "      <th>um_name</th>\n",
       "      <th>mp_month</th>\n",
       "      <th>mp_year</th>\n",
       "      <th>mp_price</th>\n",
       "    </tr>\n",
       "  </thead>\n",
       "  <tbody>\n",
       "    <tr>\n",
       "      <th>0</th>\n",
       "      <td>1.0</td>\n",
       "      <td>Afghanistan</td>\n",
       "      <td>272</td>\n",
       "      <td>Badakhshan</td>\n",
       "      <td>266</td>\n",
       "      <td>Fayzabad</td>\n",
       "      <td>55</td>\n",
       "      <td>Bread - Retail</td>\n",
       "      <td>0.0</td>\n",
       "      <td>AFN</td>\n",
       "      <td>15</td>\n",
       "      <td>Retail</td>\n",
       "      <td>5</td>\n",
       "      <td>KG</td>\n",
       "      <td>1</td>\n",
       "      <td>2014</td>\n",
       "      <td>50.0</td>\n",
       "    </tr>\n",
       "    <tr>\n",
       "      <th>1</th>\n",
       "      <td>1.0</td>\n",
       "      <td>Afghanistan</td>\n",
       "      <td>272</td>\n",
       "      <td>Badakhshan</td>\n",
       "      <td>266</td>\n",
       "      <td>Fayzabad</td>\n",
       "      <td>55</td>\n",
       "      <td>Bread - Retail</td>\n",
       "      <td>0.0</td>\n",
       "      <td>AFN</td>\n",
       "      <td>15</td>\n",
       "      <td>Retail</td>\n",
       "      <td>5</td>\n",
       "      <td>KG</td>\n",
       "      <td>2</td>\n",
       "      <td>2014</td>\n",
       "      <td>50.0</td>\n",
       "    </tr>\n",
       "    <tr>\n",
       "      <th>2</th>\n",
       "      <td>1.0</td>\n",
       "      <td>Afghanistan</td>\n",
       "      <td>272</td>\n",
       "      <td>Badakhshan</td>\n",
       "      <td>266</td>\n",
       "      <td>Fayzabad</td>\n",
       "      <td>55</td>\n",
       "      <td>Bread - Retail</td>\n",
       "      <td>0.0</td>\n",
       "      <td>AFN</td>\n",
       "      <td>15</td>\n",
       "      <td>Retail</td>\n",
       "      <td>5</td>\n",
       "      <td>KG</td>\n",
       "      <td>3</td>\n",
       "      <td>2014</td>\n",
       "      <td>50.0</td>\n",
       "    </tr>\n",
       "    <tr>\n",
       "      <th>3</th>\n",
       "      <td>1.0</td>\n",
       "      <td>Afghanistan</td>\n",
       "      <td>272</td>\n",
       "      <td>Badakhshan</td>\n",
       "      <td>266</td>\n",
       "      <td>Fayzabad</td>\n",
       "      <td>55</td>\n",
       "      <td>Bread - Retail</td>\n",
       "      <td>0.0</td>\n",
       "      <td>AFN</td>\n",
       "      <td>15</td>\n",
       "      <td>Retail</td>\n",
       "      <td>5</td>\n",
       "      <td>KG</td>\n",
       "      <td>4</td>\n",
       "      <td>2014</td>\n",
       "      <td>50.0</td>\n",
       "    </tr>\n",
       "    <tr>\n",
       "      <th>4</th>\n",
       "      <td>1.0</td>\n",
       "      <td>Afghanistan</td>\n",
       "      <td>272</td>\n",
       "      <td>Badakhshan</td>\n",
       "      <td>266</td>\n",
       "      <td>Fayzabad</td>\n",
       "      <td>55</td>\n",
       "      <td>Bread - Retail</td>\n",
       "      <td>0.0</td>\n",
       "      <td>AFN</td>\n",
       "      <td>15</td>\n",
       "      <td>Retail</td>\n",
       "      <td>5</td>\n",
       "      <td>KG</td>\n",
       "      <td>5</td>\n",
       "      <td>2014</td>\n",
       "      <td>50.0</td>\n",
       "    </tr>\n",
       "  </tbody>\n",
       "</table>\n",
       "</div>"
      ],
      "text/plain": [
       "   adm0_id    adm0_name  adm1_id   adm1_name  mkt_id  mkt_name  cm_id  \\\n",
       "0      1.0  Afghanistan      272  Badakhshan     266  Fayzabad     55   \n",
       "1      1.0  Afghanistan      272  Badakhshan     266  Fayzabad     55   \n",
       "2      1.0  Afghanistan      272  Badakhshan     266  Fayzabad     55   \n",
       "3      1.0  Afghanistan      272  Badakhshan     266  Fayzabad     55   \n",
       "4      1.0  Afghanistan      272  Badakhshan     266  Fayzabad     55   \n",
       "\n",
       "          cm_name  cur_id cur_name  pt_id pt_name  um_id um_name  mp_month  \\\n",
       "0  Bread - Retail     0.0      AFN     15  Retail      5      KG         1   \n",
       "1  Bread - Retail     0.0      AFN     15  Retail      5      KG         2   \n",
       "2  Bread - Retail     0.0      AFN     15  Retail      5      KG         3   \n",
       "3  Bread - Retail     0.0      AFN     15  Retail      5      KG         4   \n",
       "4  Bread - Retail     0.0      AFN     15  Retail      5      KG         5   \n",
       "\n",
       "   mp_year  mp_price  \n",
       "0     2014      50.0  \n",
       "1     2014      50.0  \n",
       "2     2014      50.0  \n",
       "3     2014      50.0  \n",
       "4     2014      50.0  "
      ]
     },
     "execution_count": 7,
     "metadata": {},
     "output_type": "execute_result"
    }
   ],
   "source": [
    "df.head()"
   ]
  },
  {
   "cell_type": "code",
   "execution_count": 17,
   "metadata": {},
   "outputs": [
    {
     "data": {
      "text/plain": [
       "19488"
      ]
     },
     "execution_count": 17,
     "metadata": {},
     "output_type": "execute_result"
    }
   ],
   "source": [
    "len(df.loc[(df[\"mp_year\"] == 2020) & (df[\"mp_month\"] == 1)])"
   ]
  },
  {
   "cell_type": "code",
   "execution_count": 18,
   "metadata": {},
   "outputs": [
    {
     "data": {
      "text/html": [
       "<div>\n",
       "<style scoped>\n",
       "    .dataframe tbody tr th:only-of-type {\n",
       "        vertical-align: middle;\n",
       "    }\n",
       "\n",
       "    .dataframe tbody tr th {\n",
       "        vertical-align: top;\n",
       "    }\n",
       "\n",
       "    .dataframe thead th {\n",
       "        text-align: right;\n",
       "    }\n",
       "</style>\n",
       "<table border=\"1\" class=\"dataframe\">\n",
       "  <thead>\n",
       "    <tr style=\"text-align: right;\">\n",
       "      <th></th>\n",
       "      <th>adm0_id</th>\n",
       "      <th>adm0_name</th>\n",
       "      <th>adm1_id</th>\n",
       "      <th>adm1_name</th>\n",
       "      <th>mkt_id</th>\n",
       "      <th>mkt_name</th>\n",
       "      <th>cm_id</th>\n",
       "      <th>cm_name</th>\n",
       "      <th>cur_id</th>\n",
       "      <th>cur_name</th>\n",
       "      <th>pt_id</th>\n",
       "      <th>pt_name</th>\n",
       "      <th>um_id</th>\n",
       "      <th>um_name</th>\n",
       "      <th>mp_month</th>\n",
       "      <th>mp_year</th>\n",
       "      <th>mp_price</th>\n",
       "    </tr>\n",
       "  </thead>\n",
       "  <tbody>\n",
       "    <tr>\n",
       "      <th>69</th>\n",
       "      <td>1.0</td>\n",
       "      <td>Afghanistan</td>\n",
       "      <td>272</td>\n",
       "      <td>Badakhshan</td>\n",
       "      <td>266</td>\n",
       "      <td>Fayzabad</td>\n",
       "      <td>55</td>\n",
       "      <td>Bread - Retail</td>\n",
       "      <td>0.0</td>\n",
       "      <td>AFN</td>\n",
       "      <td>15</td>\n",
       "      <td>Retail</td>\n",
       "      <td>5</td>\n",
       "      <td>KG</td>\n",
       "      <td>1</td>\n",
       "      <td>2020</td>\n",
       "      <td>50.0000</td>\n",
       "    </tr>\n",
       "    <tr>\n",
       "      <th>275</th>\n",
       "      <td>1.0</td>\n",
       "      <td>Afghanistan</td>\n",
       "      <td>272</td>\n",
       "      <td>Badakhshan</td>\n",
       "      <td>266</td>\n",
       "      <td>Fayzabad</td>\n",
       "      <td>84</td>\n",
       "      <td>Wheat - Retail</td>\n",
       "      <td>0.0</td>\n",
       "      <td>AFN</td>\n",
       "      <td>15</td>\n",
       "      <td>Retail</td>\n",
       "      <td>5</td>\n",
       "      <td>KG</td>\n",
       "      <td>1</td>\n",
       "      <td>2020</td>\n",
       "      <td>25.3750</td>\n",
       "    </tr>\n",
       "    <tr>\n",
       "      <th>431</th>\n",
       "      <td>1.0</td>\n",
       "      <td>Afghanistan</td>\n",
       "      <td>272</td>\n",
       "      <td>Badakhshan</td>\n",
       "      <td>266</td>\n",
       "      <td>Fayzabad</td>\n",
       "      <td>145</td>\n",
       "      <td>Rice (low quality) - Retail</td>\n",
       "      <td>0.0</td>\n",
       "      <td>AFN</td>\n",
       "      <td>15</td>\n",
       "      <td>Retail</td>\n",
       "      <td>5</td>\n",
       "      <td>KG</td>\n",
       "      <td>1</td>\n",
       "      <td>2020</td>\n",
       "      <td>57.0000</td>\n",
       "    </tr>\n",
       "    <tr>\n",
       "      <th>501</th>\n",
       "      <td>1.0</td>\n",
       "      <td>Afghanistan</td>\n",
       "      <td>272</td>\n",
       "      <td>Badakhshan</td>\n",
       "      <td>266</td>\n",
       "      <td>Fayzabad</td>\n",
       "      <td>274</td>\n",
       "      <td>Wage (qualified labour) - Retail</td>\n",
       "      <td>0.0</td>\n",
       "      <td>AFN</td>\n",
       "      <td>15</td>\n",
       "      <td>Retail</td>\n",
       "      <td>51</td>\n",
       "      <td>Day</td>\n",
       "      <td>1</td>\n",
       "      <td>2020</td>\n",
       "      <td>1000.0000</td>\n",
       "    </tr>\n",
       "    <tr>\n",
       "      <th>661</th>\n",
       "      <td>1.0</td>\n",
       "      <td>Afghanistan</td>\n",
       "      <td>272</td>\n",
       "      <td>Badakhshan</td>\n",
       "      <td>266</td>\n",
       "      <td>Fayzabad</td>\n",
       "      <td>284</td>\n",
       "      <td>Fuel (diesel) - Retail</td>\n",
       "      <td>0.0</td>\n",
       "      <td>AFN</td>\n",
       "      <td>15</td>\n",
       "      <td>Retail</td>\n",
       "      <td>15</td>\n",
       "      <td>L</td>\n",
       "      <td>1</td>\n",
       "      <td>2020</td>\n",
       "      <td>51.5000</td>\n",
       "    </tr>\n",
       "    <tr>\n",
       "      <th>...</th>\n",
       "      <td>...</td>\n",
       "      <td>...</td>\n",
       "      <td>...</td>\n",
       "      <td>...</td>\n",
       "      <td>...</td>\n",
       "      <td>...</td>\n",
       "      <td>...</td>\n",
       "      <td>...</td>\n",
       "      <td>...</td>\n",
       "      <td>...</td>\n",
       "      <td>...</td>\n",
       "      <td>...</td>\n",
       "      <td>...</td>\n",
       "      <td>...</td>\n",
       "      <td>...</td>\n",
       "      <td>...</td>\n",
       "      <td>...</td>\n",
       "    </tr>\n",
       "    <tr>\n",
       "      <th>1556066</th>\n",
       "      <td>270.0</td>\n",
       "      <td>Zambia</td>\n",
       "      <td>3434</td>\n",
       "      <td>Western</td>\n",
       "      <td>1462</td>\n",
       "      <td>Kalabo</td>\n",
       "      <td>71</td>\n",
       "      <td>Rice (local) - Retail</td>\n",
       "      <td>0.0</td>\n",
       "      <td>ZMW</td>\n",
       "      <td>15</td>\n",
       "      <td>Retail</td>\n",
       "      <td>5</td>\n",
       "      <td>KG</td>\n",
       "      <td>1</td>\n",
       "      <td>2020</td>\n",
       "      <td>18.0200</td>\n",
       "    </tr>\n",
       "    <tr>\n",
       "      <th>1556142</th>\n",
       "      <td>270.0</td>\n",
       "      <td>Zambia</td>\n",
       "      <td>3434</td>\n",
       "      <td>Western</td>\n",
       "      <td>1462</td>\n",
       "      <td>Kalabo</td>\n",
       "      <td>119</td>\n",
       "      <td>Groundnuts (shelled) - Retail</td>\n",
       "      <td>0.0</td>\n",
       "      <td>ZMW</td>\n",
       "      <td>15</td>\n",
       "      <td>Retail</td>\n",
       "      <td>5</td>\n",
       "      <td>KG</td>\n",
       "      <td>1</td>\n",
       "      <td>2020</td>\n",
       "      <td>31.6200</td>\n",
       "    </tr>\n",
       "    <tr>\n",
       "      <th>1556246</th>\n",
       "      <td>270.0</td>\n",
       "      <td>Zambia</td>\n",
       "      <td>3434</td>\n",
       "      <td>Western</td>\n",
       "      <td>1462</td>\n",
       "      <td>Kalabo</td>\n",
       "      <td>262</td>\n",
       "      <td>Beans (dry) - Retail</td>\n",
       "      <td>0.0</td>\n",
       "      <td>ZMW</td>\n",
       "      <td>15</td>\n",
       "      <td>Retail</td>\n",
       "      <td>5</td>\n",
       "      <td>KG</td>\n",
       "      <td>1</td>\n",
       "      <td>2020</td>\n",
       "      <td>12.2500</td>\n",
       "    </tr>\n",
       "    <tr>\n",
       "      <th>1556343</th>\n",
       "      <td>270.0</td>\n",
       "      <td>Zambia</td>\n",
       "      <td>3434</td>\n",
       "      <td>Western</td>\n",
       "      <td>1462</td>\n",
       "      <td>Kalabo</td>\n",
       "      <td>264</td>\n",
       "      <td>Maize meal (white, roller) - Retail</td>\n",
       "      <td>0.0</td>\n",
       "      <td>ZMW</td>\n",
       "      <td>15</td>\n",
       "      <td>Retail</td>\n",
       "      <td>5</td>\n",
       "      <td>KG</td>\n",
       "      <td>1</td>\n",
       "      <td>2020</td>\n",
       "      <td>6.0960</td>\n",
       "    </tr>\n",
       "    <tr>\n",
       "      <th>1556442</th>\n",
       "      <td>270.0</td>\n",
       "      <td>Zambia</td>\n",
       "      <td>3434</td>\n",
       "      <td>Western</td>\n",
       "      <td>1462</td>\n",
       "      <td>Kalabo</td>\n",
       "      <td>265</td>\n",
       "      <td>Maize meal (white, breakfast) - Retail</td>\n",
       "      <td>0.0</td>\n",
       "      <td>ZMW</td>\n",
       "      <td>15</td>\n",
       "      <td>Retail</td>\n",
       "      <td>5</td>\n",
       "      <td>KG</td>\n",
       "      <td>1</td>\n",
       "      <td>2020</td>\n",
       "      <td>5.5596</td>\n",
       "    </tr>\n",
       "  </tbody>\n",
       "</table>\n",
       "<p>19488 rows × 17 columns</p>\n",
       "</div>"
      ],
      "text/plain": [
       "         adm0_id    adm0_name  adm1_id   adm1_name  mkt_id  mkt_name  cm_id  \\\n",
       "69           1.0  Afghanistan      272  Badakhshan     266  Fayzabad     55   \n",
       "275          1.0  Afghanistan      272  Badakhshan     266  Fayzabad     84   \n",
       "431          1.0  Afghanistan      272  Badakhshan     266  Fayzabad    145   \n",
       "501          1.0  Afghanistan      272  Badakhshan     266  Fayzabad    274   \n",
       "661          1.0  Afghanistan      272  Badakhshan     266  Fayzabad    284   \n",
       "...          ...          ...      ...         ...     ...       ...    ...   \n",
       "1556066    270.0       Zambia     3434     Western    1462    Kalabo     71   \n",
       "1556142    270.0       Zambia     3434     Western    1462    Kalabo    119   \n",
       "1556246    270.0       Zambia     3434     Western    1462    Kalabo    262   \n",
       "1556343    270.0       Zambia     3434     Western    1462    Kalabo    264   \n",
       "1556442    270.0       Zambia     3434     Western    1462    Kalabo    265   \n",
       "\n",
       "                                        cm_name  cur_id cur_name  pt_id  \\\n",
       "69                               Bread - Retail     0.0      AFN     15   \n",
       "275                              Wheat - Retail     0.0      AFN     15   \n",
       "431                 Rice (low quality) - Retail     0.0      AFN     15   \n",
       "501            Wage (qualified labour) - Retail     0.0      AFN     15   \n",
       "661                      Fuel (diesel) - Retail     0.0      AFN     15   \n",
       "...                                         ...     ...      ...    ...   \n",
       "1556066                   Rice (local) - Retail     0.0      ZMW     15   \n",
       "1556142           Groundnuts (shelled) - Retail     0.0      ZMW     15   \n",
       "1556246                    Beans (dry) - Retail     0.0      ZMW     15   \n",
       "1556343     Maize meal (white, roller) - Retail     0.0      ZMW     15   \n",
       "1556442  Maize meal (white, breakfast) - Retail     0.0      ZMW     15   \n",
       "\n",
       "        pt_name  um_id um_name  mp_month  mp_year   mp_price  \n",
       "69       Retail      5      KG         1     2020    50.0000  \n",
       "275      Retail      5      KG         1     2020    25.3750  \n",
       "431      Retail      5      KG         1     2020    57.0000  \n",
       "501      Retail     51     Day         1     2020  1000.0000  \n",
       "661      Retail     15       L         1     2020    51.5000  \n",
       "...         ...    ...     ...       ...      ...        ...  \n",
       "1556066  Retail      5      KG         1     2020    18.0200  \n",
       "1556142  Retail      5      KG         1     2020    31.6200  \n",
       "1556246  Retail      5      KG         1     2020    12.2500  \n",
       "1556343  Retail      5      KG         1     2020     6.0960  \n",
       "1556442  Retail      5      KG         1     2020     5.5596  \n",
       "\n",
       "[19488 rows x 17 columns]"
      ]
     },
     "execution_count": 18,
     "metadata": {},
     "output_type": "execute_result"
    }
   ],
   "source": [
    "df.loc[(df[\"mp_year\"] == 2020) & (df[\"mp_month\"] == 1)]"
   ]
  },
  {
   "cell_type": "code",
   "execution_count": 19,
   "metadata": {},
   "outputs": [],
   "source": [
    "df = df.loc[(df[\"mp_year\"] == 2020) & (df[\"mp_month\"] == 1)]"
   ]
  },
  {
   "cell_type": "code",
   "execution_count": 24,
   "metadata": {},
   "outputs": [
    {
     "data": {
      "text/plain": [
       "array(['Maize flour - Retail', 'Maize (yellow) - Wholesale',\n",
       "       'Maize (white) - Retail', 'Maize - Wholesale',\n",
       "       'Maize (local) - Retail', 'Maize (yellow) - Retail',\n",
       "       'Maize - Retail', 'Maize (local) - Wholesale',\n",
       "       'Maize (white) - Wholesale', 'Maize flour - Wholesale',\n",
       "       'Maize meal - Retail', 'Maize (food aid) - Retail',\n",
       "       'Maize meal (local) - Retail', 'Maize meal (imported) - Retail',\n",
       "       'Maize meal (white, first grade) - Retail',\n",
       "       'Maize meal (white, with bran) - Retail',\n",
       "       'Maize meal (white, without bran) - Retail',\n",
       "       'Maize flour (yellow) - Retail', 'Maize flour (white) - Wholesale',\n",
       "       'Maize flour (white) - Retail', 'Maize flour (yellow) - Wholesale',\n",
       "       'Maize (imported) - Retail', 'Maize meal (white, roller) - Retail',\n",
       "       'Maize meal (white, breakfast) - Retail'], dtype=object)"
      ]
     },
     "execution_count": 24,
     "metadata": {},
     "output_type": "execute_result"
    }
   ],
   "source": [
    "df[df[\"cm_name\"].str.contains('|'.join([\"Maize\"]))].cm_name.unique()"
   ]
  },
  {
   "cell_type": "code",
   "execution_count": 27,
   "metadata": {},
   "outputs": [
    {
     "data": {
      "text/plain": [
       "array(['Rice (low quality) - Retail', 'Rice (regular, milled) - Retail',\n",
       "       'Rice (white) - Retail', 'Rice (coarse) - Retail',\n",
       "       'Rice (medium grain) - Wholesale', 'Rice (medium grain) - Retail',\n",
       "       'Rice (coarse, BR-8/ 11/, Guti Sharna) - Wholesale',\n",
       "       'Rice (coarse, BR-8/ 11/, Guti Sharna) - Retail', 'Rice - Retail',\n",
       "       'Rice - Wholesale', 'Rice (imported) - Retail',\n",
       "       'Rice (local) - Retail',\n",
       "       'Rice (ordinary, first quality) - Wholesale',\n",
       "       'Rice (ordinary, second quality) - Wholesale',\n",
       "       'Rice (Grano de Oro) - Retail', 'Rice (carolina 2da) - Retail',\n",
       "       'Rice (carolina, 1st) - Retail', 'Rice (long grain) - Retail',\n",
       "       'Rice (imported) - Wholesale',\n",
       "       'Rice (high quality, local) - Retail',\n",
       "       'Rice (low quality, local) - Retail',\n",
       "       'Rice (mixed, low quality) - Wholesale',\n",
       "       'Rice (mixed, low quality) - Retail', 'Rice (local) - Wholesale',\n",
       "       'Rice (Indica) - Wholesale', 'Rice (Japonica) - Wholesale',\n",
       "       'Rice (white) - Wholesale', 'Rice (paddy) - Wholesale',\n",
       "       'Rice (high quality) - Wholesale',\n",
       "       'Rice (denikassia, imported) - Retail',\n",
       "       'Rice (ordinary, first quality) - Retail',\n",
       "       'Rice (ordinary, second quality) - Retail',\n",
       "       'Rice (long grain) - Wholesale',\n",
       "       'Rice (paddy, long grain, local) - Retail',\n",
       "       'Rice (long grain, imported) - Retail',\n",
       "       'Rice (medium grain, imported) - Retail',\n",
       "       'Rice (small grain, imported) - Retail',\n",
       "       'Rice (basmati, broken) - Retail', 'Rice (tchako) - Retail',\n",
       "       'Rice (glutinous, unmilled) - Retail',\n",
       "       'Rice (glutinous, first quality) - Retail',\n",
       "       'Rice (glutinous, second quality) - Retail',\n",
       "       'Rice (ordinary, unmilled) - Retail',\n",
       "       'Rice (imported, Egyptian) - Retail',\n",
       "       'Rice (white, imported) - Retail',\n",
       "       'Rice (long grain, Sinaloa) - Wholesale',\n",
       "       'Rice (small grain, Morelos) - Wholesale',\n",
       "       'Rice (Emata) - Wholesale', 'Rice (Emata) - Retail',\n",
       "       'Rice (low quality) - Wholesale',\n",
       "       'Rice (milled, local) - Wholesale',\n",
       "       'Rice (regular, milled) - Wholesale',\n",
       "       'Rice (milled, superior) - Wholesale',\n",
       "       'Rice (milled, superior) - Retail',\n",
       "       'Rice (long grain, high quality, local) - Retail',\n",
       "       'Rice (red nadu) - Wholesale', 'Rice (red nadu) - Retail',\n",
       "       'Rice (red) - Wholesale', 'Rice (red) - Retail',\n",
       "       'Rice (short grain, low quality, local) - Retail'], dtype=object)"
      ]
     },
     "execution_count": 27,
     "metadata": {},
     "output_type": "execute_result"
    }
   ],
   "source": [
    "df[df[\"cm_name\"].str.contains('|'.join([\"Rice\"]))].cm_name.unique()"
   ]
  },
  {
   "cell_type": "markdown",
   "metadata": {},
   "source": [
    "No Yams"
   ]
  },
  {
   "cell_type": "code",
   "execution_count": 28,
   "metadata": {},
   "outputs": [
    {
     "data": {
      "text/plain": [
       "array([], dtype=object)"
      ]
     },
     "execution_count": 28,
     "metadata": {},
     "output_type": "execute_result"
    }
   ],
   "source": [
    "df[df[\"cm_name\"].str.contains('|'.join([\"Yams\"]))].cm_name.unique()"
   ]
  },
  {
   "cell_type": "code",
   "execution_count": 29,
   "metadata": {},
   "outputs": [
    {
     "data": {
      "text/plain": [
       "array(['Wheat - Retail', 'Wheat - Wholesale', 'Wheat flour - Retail',\n",
       "       'Wheat flour - Wholesale', 'Wheat flour (imported) - Retail',\n",
       "       'Wheat flour (local) - Wholesale',\n",
       "       'Wheat flour (imported) - Wholesale',\n",
       "       'Wheat flour (first grade) - Wholesale',\n",
       "       'Wheat (imported) - Wholesale', 'Wheat (white) - Retail',\n",
       "       'Wheat (mixed) - Retail', 'Wheat (food aid) - Retail',\n",
       "       'Wheat flour (first grade) - Retail',\n",
       "       'Wheat flour (local) - Retail',\n",
       "       'Wheat flour (high grade) - Wholesale',\n",
       "       'Wheat flour (locally processed) - Retail',\n",
       "       'Wheat flour (high quality) - Retail'], dtype=object)"
      ]
     },
     "execution_count": 29,
     "metadata": {},
     "output_type": "execute_result"
    }
   ],
   "source": [
    "df[df[\"cm_name\"].str.contains('|'.join([\"Wheat\"]))].cm_name.unique()"
   ]
  },
  {
   "cell_type": "code",
   "execution_count": 30,
   "metadata": {},
   "outputs": [
    {
     "data": {
      "text/plain": [
       "array(['Tomatoes - Retail', 'Tomatoes (paste) - Retail',\n",
       "       'Tomatoes - Wholesale', 'Tomatoes (local) - Wholesale',\n",
       "       'Tomatoes (dried) - Wholesale', 'Tomatoes (greenhouse) - Retail'],\n",
       "      dtype=object)"
      ]
     },
     "execution_count": 30,
     "metadata": {},
     "output_type": "execute_result"
    }
   ],
   "source": [
    "df[df[\"cm_name\"].str.contains('|'.join([\"Tomatoes\"]))].cm_name.unique()"
   ]
  },
  {
   "cell_type": "code",
   "execution_count": 31,
   "metadata": {},
   "outputs": [
    {
     "data": {
      "text/plain": [
       "array(['Tea (black) - Retail', 'Tea - Retail', 'Tea (green) - Retail',\n",
       "       'Tea (herbal) - Retail'], dtype=object)"
      ]
     },
     "execution_count": 31,
     "metadata": {},
     "output_type": "execute_result"
    }
   ],
   "source": [
    "df[df[\"cm_name\"].str.contains('|'.join([\"Tea\"]))].cm_name.unique()"
   ]
  },
  {
   "cell_type": "code",
   "execution_count": 33,
   "metadata": {},
   "outputs": [
    {
     "data": {
      "text/plain": [
       "array(['Sweet potatoes - Retail'], dtype=object)"
      ]
     },
     "execution_count": 33,
     "metadata": {},
     "output_type": "execute_result"
    }
   ],
   "source": [
    "df[df[\"cm_name\"].str.contains('|'.join([\"Sweet potatoes\"]))].cm_name.unique()"
   ]
  },
  {
   "cell_type": "markdown",
   "metadata": {},
   "source": [
    "No Sunflower Seeds"
   ]
  },
  {
   "cell_type": "code",
   "execution_count": 36,
   "metadata": {},
   "outputs": [
    {
     "data": {
      "text/plain": [
       "array([], dtype=object)"
      ]
     },
     "execution_count": 36,
     "metadata": {},
     "output_type": "execute_result"
    }
   ],
   "source": [
    "df[df[\"cm_name\"].str.contains('|'.join([\"Sunflower\"]))].cm_name.unique()"
   ]
  },
  {
   "cell_type": "markdown",
   "metadata": {},
   "source": [
    "No Sugar Cane"
   ]
  },
  {
   "cell_type": "code",
   "execution_count": 39,
   "metadata": {},
   "outputs": [
    {
     "data": {
      "text/plain": [
       "array(['Sugar (white) - Retail', 'Sugar - Retail',\n",
       "       'Sugar (jaggery/gur) - Retail', 'Sugar - Wholesale',\n",
       "       'Sugar (white) - Wholesale', 'Sugar (brown) - Wholesale',\n",
       "       'Sugar (brown, loaf) - Wholesale', 'Sugar (brown) - Retail',\n",
       "       'Sugar (brown, local) - Retail',\n",
       "       'Sugar (brown, imported) - Retail'], dtype=object)"
      ]
     },
     "execution_count": 39,
     "metadata": {},
     "output_type": "execute_result"
    }
   ],
   "source": [
    "df[df[\"cm_name\"].str.contains('|'.join([\"Sugar\"]))].cm_name.unique()"
   ]
  },
  {
   "cell_type": "code",
   "execution_count": 40,
   "metadata": {},
   "outputs": [
    {
     "data": {
      "text/plain": [
       "array(['Soybeans - Retail', 'Soybeans - Wholesale'], dtype=object)"
      ]
     },
     "execution_count": 40,
     "metadata": {},
     "output_type": "execute_result"
    }
   ],
   "source": [
    "df[df[\"cm_name\"].str.contains('|'.join([\"Soybeans\"]))].cm_name.unique()"
   ]
  },
  {
   "cell_type": "markdown",
   "metadata": {},
   "source": [
    "No Rye"
   ]
  },
  {
   "cell_type": "code",
   "execution_count": 46,
   "metadata": {},
   "outputs": [
    {
     "data": {
      "text/plain": [
       "array([], dtype=object)"
      ]
     },
     "execution_count": 46,
     "metadata": {},
     "output_type": "execute_result"
    }
   ],
   "source": [
    "df[df[\"cm_name\"].str.contains('|'.join([\"Ry\"]))].cm_name.unique()"
   ]
  },
  {
   "cell_type": "code",
   "execution_count": 52,
   "metadata": {},
   "outputs": [
    {
     "data": {
      "text/plain": [
       "array(['Potatoes - Retail', 'Potatoes (Irish, imilla) - Wholesale',\n",
       "       'Potatoes (Irish, imilla) - Retail', 'Potatoes (Irish) - Retail',\n",
       "       'Potatoes (black) - Wholesale', 'Potatoes - Wholesale',\n",
       "       'Potatoes (Irish) - Wholesale', 'Potatoes (red) - Retail',\n",
       "       'Potatoes (local) - Wholesale', 'Potatoes (local) - Retail',\n",
       "       'Potatoes (imported) - Wholesale', 'Potatoes (imported) - Retail',\n",
       "       'Potatoes (medium size) - Retail'], dtype=object)"
      ]
     },
     "execution_count": 52,
     "metadata": {},
     "output_type": "execute_result"
    }
   ],
   "source": [
    "df[df[\"cm_name\"].str.contains('|'.join([\"Potato\"]))].cm_name.unique()"
   ]
  },
  {
   "cell_type": "code",
   "execution_count": 54,
   "metadata": {},
   "outputs": [
    {
     "data": {
      "text/plain": [
       "array(['Oranges - Retail', 'Oranges (big size) - Wholesale',\n",
       "       'Oranges - Wholesale', 'Oranges (big size) - Retail'], dtype=object)"
      ]
     },
     "execution_count": 54,
     "metadata": {},
     "output_type": "execute_result"
    }
   ],
   "source": [
    "df[df[\"cm_name\"].str.contains('|'.join([\"Orange\"]))].cm_name.unique()"
   ]
  },
  {
   "cell_type": "code",
   "execution_count": 55,
   "metadata": {},
   "outputs": [
    {
     "data": {
      "text/plain": [
       "array(['Peas (split, dry) - Retail', 'Peanut - Retail',\n",
       "       'Peas (green, dry) - Wholesale', 'Peas (fresh) - Wholesale',\n",
       "       'Peas - Retail', 'Peas (green, dry) - Retail',\n",
       "       'Peas (yellow, split) - Retail'], dtype=object)"
      ]
     },
     "execution_count": 55,
     "metadata": {},
     "output_type": "execute_result"
    }
   ],
   "source": [
    "df[df[\"cm_name\"].str.contains('|'.join([\"Pea\"]))].cm_name.unique()"
   ]
  },
  {
   "cell_type": "code",
   "execution_count": 61,
   "metadata": {},
   "outputs": [
    {
     "data": {
      "text/plain": [
       "array(['Oil (palm) - Retail'], dtype=object)"
      ]
     },
     "execution_count": 61,
     "metadata": {},
     "output_type": "execute_result"
    }
   ],
   "source": [
    "df[df[\"cm_name\"].str.contains('|'.join([\"palm\"]))].cm_name.unique()"
   ]
  },
  {
   "cell_type": "markdown",
   "metadata": {},
   "source": [
    "No Grapes"
   ]
  },
  {
   "cell_type": "code",
   "execution_count": 64,
   "metadata": {},
   "outputs": [
    {
     "data": {
      "text/plain": [
       "array([], dtype=object)"
      ]
     },
     "execution_count": 64,
     "metadata": {},
     "output_type": "execute_result"
    }
   ],
   "source": [
    "df[df[\"cm_name\"].str.contains('|'.join([\"grapes\"]))].cm_name.unique()"
   ]
  },
  {
   "cell_type": "code",
   "execution_count": 65,
   "metadata": {},
   "outputs": [
    {
     "data": {
      "text/plain": [
       "array(['Coffee - Wholesale', 'Coffee - Retail',\n",
       "       'Coffee (instant) - Retail'], dtype=object)"
      ]
     },
     "execution_count": 65,
     "metadata": {},
     "output_type": "execute_result"
    }
   ],
   "source": [
    "df[df[\"cm_name\"].str.contains('|'.join([\"Coffee\"]))].cm_name.unique()"
   ]
  },
  {
   "cell_type": "code",
   "execution_count": null,
   "metadata": {},
   "outputs": [],
   "source": [
    "df[df[\"cm_name\"].str.contains('|'.join([\"Coffee\"]))].cm_name.unique()"
   ]
  },
  {
   "cell_type": "code",
   "execution_count": 66,
   "metadata": {},
   "outputs": [
    {
     "data": {
      "text/plain": [
       "array(['Cocoa - Wholesale', 'Cocoa - Retail', 'Cocoa (powder) - Retail'],\n",
       "      dtype=object)"
      ]
     },
     "execution_count": 66,
     "metadata": {},
     "output_type": "execute_result"
    }
   ],
   "source": [
    "df[df[\"cm_name\"].str.contains('|'.join([\"Cocoa\"]))].cm_name.unique()"
   ]
  },
  {
   "cell_type": "code",
   "execution_count": 67,
   "metadata": {},
   "outputs": [
    {
     "data": {
      "text/plain": [
       "array(['Meat (beef) - Retail', 'Meat (chicken) - Retail',\n",
       "       'Meat (pork) - Retail', 'Meat (chicken, whole) - Wholesale',\n",
       "       'Meat (chicken, whole) - Retail', 'Meat (goat) - Retail',\n",
       "       'Meat (pork, with fat) - Retail',\n",
       "       'Meat (pork, with fat) - Wholesale', 'Meat (chicken) - Wholesale',\n",
       "       'Meat (pork) - Wholesale', 'Meat (beef) - Wholesale',\n",
       "       'Meat (chicken, whole, frozen) - Wholesale',\n",
       "       'Meat (chicken, frozen) - Retail',\n",
       "       'Meat (goat, with bones) - Retail',\n",
       "       'Meat (beef, without bones) - Retail', 'Meat (mutton) - Retail',\n",
       "       'Meat (beef, chops with bones) - Wholesale',\n",
       "       'Meat (chicken, broiler) - Retail', 'Meat (lamb) - Retail',\n",
       "       'Meat (beef, first quality) - Retail',\n",
       "       'Meat (beef, second quality) - Retail',\n",
       "       'Meat (buffalo, first quality) - Retail',\n",
       "       'Meat (buffalo, second quality) - Retail',\n",
       "       'Meat (pork, first quality) - Retail',\n",
       "       'Meat (pork, second quality) - Retail',\n",
       "       'Meat (beef, canned) - Retail',\n",
       "       'Meat (chicken, whole, frozen) - Retail', 'Meat (camel) - Retail',\n",
       "       'Meat (beef, minced) - Retail', 'Meat (chicken, plucked) - Retail',\n",
       "       'Meat (veal) - Retail'], dtype=object)"
      ]
     },
     "execution_count": 67,
     "metadata": {},
     "output_type": "execute_result"
    }
   ],
   "source": [
    "df[df[\"cm_name\"].str.contains('|'.join([\"Meat\"]))].cm_name.unique()"
   ]
  },
  {
   "cell_type": "code",
   "execution_count": 68,
   "metadata": {},
   "outputs": [
    {
     "data": {
      "text/plain": [
       "array(['Bananas - Retail', 'Bananas - Wholesale',\n",
       "       'Bananas (medium size) - Retail'], dtype=object)"
      ]
     },
     "execution_count": 68,
     "metadata": {},
     "output_type": "execute_result"
    }
   ],
   "source": [
    "df[df[\"cm_name\"].str.contains('|'.join([\"Banana\"]))].cm_name.unique()"
   ]
  },
  {
   "cell_type": "code",
   "execution_count": 69,
   "metadata": {},
   "outputs": [
    {
     "data": {
      "text/plain": [
       "array(['Avocados - Retail'], dtype=object)"
      ]
     },
     "execution_count": 69,
     "metadata": {},
     "output_type": "execute_result"
    }
   ],
   "source": [
    "df[df[\"cm_name\"].str.contains('|'.join([\"Avocado\"]))].cm_name.unique()"
   ]
  },
  {
   "cell_type": "code",
   "execution_count": null,
   "metadata": {},
   "outputs": [],
   "source": [
    "df[df[\"cm_name\"].str.contains('|'.join([\"Avocado\"]))].cm_name.unique()"
   ]
  },
  {
   "cell_type": "code",
   "execution_count": 70,
   "metadata": {},
   "outputs": [
    {
     "data": {
      "text/plain": [
       "array(['Apples (red) - Retail', 'Apples - Retail',\n",
       "       'Apples (dried) - Retail'], dtype=object)"
      ]
     },
     "execution_count": 70,
     "metadata": {},
     "output_type": "execute_result"
    }
   ],
   "source": [
    "df[df[\"cm_name\"].str.contains('|'.join([\"Apple\"]))].cm_name.unique()"
   ]
  }
 ],
 "metadata": {
  "kernelspec": {
   "display_name": "Python 3",
   "language": "python",
   "name": "python3"
  },
  "language_info": {
   "codemirror_mode": {
    "name": "ipython",
    "version": 3
   },
   "file_extension": ".py",
   "mimetype": "text/x-python",
   "name": "python",
   "nbconvert_exporter": "python",
   "pygments_lexer": "ipython3",
   "version": "3.11.6"
  }
 },
 "nbformat": 4,
 "nbformat_minor": 2
}
